{
 "cells": [
  {
   "cell_type": "markdown",
   "metadata": {
    "_uuid": "9da2cd5bf7d7126d3d3c2e4a0a94cd914e8b846e"
   },
   "source": [
    "# Titanic dataset preprocessing for classification\n",
    "\n",
    "In this tutorial we will learn a few ways of preprocessing a real world dataset such that it is suitable for feeding as an input to our favorite machine learning algorithms. \n",
    "\n",
    "Titanic dataset contains the information about the passangers onboard the famous Titanic ship. It also provides whether the passenger survived the incident, which occured on that fateful night, or not. Like any real world dataset all columns in the dataset are not numbers and there's a lot of missing information. Since, ML algorithms only crunch numbers, having text data makes it impossible to use it directly as an input to the machine learning algorithms which we have been studying. The objective of this tutorial is to introduce you to few methods which will help in converting various forms of data to numbers and use them as features to the ML algorithms"
   ]
  },
  {
   "cell_type": "code",
   "execution_count": 2,
   "metadata": {
    "_cell_guid": "b1076dfc-b9ad-4769-8c92-a6c4dae69d19",
    "_uuid": "8f2839f25d086af736a60e9eeb907d3b93b6e0e5"
   },
   "outputs": [],
   "source": [
    "# Most of the code in this notebook is borrowed from \n",
    "# (https://www.kaggle.com/sinakhorami/titanic/titanic-best-working-classifier)\n",
    "\n",
    "# The Pearson correlation map is taken from\n",
    "# https://www.kaggle.com/arthurtok/introduction-to-ensembling-stacking-in-python\n",
    "\n",
    "\n",
    "# Refer https://www.datascience.com/blog/introduction-to-correlation-learn-data-science-tutorials\n",
    "# for a description of Pearson Correlation function\n",
    "\n",
    "\n",
    "# Import necessary packages/ modules\n",
    "\n",
    "\n",
    "import numpy as np # linear algebra\n",
    "import pandas as pd # data processing, CSV file I/O (e.g. pd.read_csv)"
   ]
  },
  {
   "cell_type": "code",
   "execution_count": 3,
   "metadata": {
    "_uuid": "6382dfd6a3a34ecd1c9b4adce87ae550a1661751"
   },
   "outputs": [
    {
     "name": "stdout",
     "output_type": "stream",
     "text": [
      "   PassengerId  Survived  Pclass  \\\n",
      "0            1         0       3   \n",
      "1            2         1       1   \n",
      "2            3         1       3   \n",
      "\n",
      "                                                Name     Sex   Age  SibSp  \\\n",
      "0                            Braund, Mr. Owen Harris    male  22.0      1   \n",
      "1  Cumings, Mrs. John Bradley (Florence Briggs Th...  female  38.0      1   \n",
      "2                             Heikkinen, Miss. Laina  female  26.0      0   \n",
      "\n",
      "   Parch            Ticket     Fare Cabin Embarked  \n",
      "0      0         A/5 21171   7.2500   NaN        S  \n",
      "1      0          PC 17599  71.2833   C85        C  \n",
      "2      0  STON/O2. 3101282   7.9250   NaN        S  \n",
      "<class 'pandas.core.frame.DataFrame'>\n",
      "RangeIndex: 891 entries, 0 to 890\n",
      "Data columns (total 12 columns):\n",
      "PassengerId    891 non-null int64\n",
      "Survived       891 non-null int64\n",
      "Pclass         891 non-null int64\n",
      "Name           891 non-null object\n",
      "Sex            891 non-null object\n",
      "Age            714 non-null float64\n",
      "SibSp          891 non-null int64\n",
      "Parch          891 non-null int64\n",
      "Ticket         891 non-null object\n",
      "Fare           891 non-null float64\n",
      "Cabin          204 non-null object\n",
      "Embarked       889 non-null object\n",
      "dtypes: float64(2), int64(5), object(5)\n",
      "memory usage: 83.6+ KB\n",
      "None\n",
      "<class 'pandas.core.frame.DataFrame'>\n",
      "RangeIndex: 418 entries, 0 to 417\n",
      "Data columns (total 11 columns):\n",
      "PassengerId    418 non-null int64\n",
      "Pclass         418 non-null int64\n",
      "Name           418 non-null object\n",
      "Sex            418 non-null object\n",
      "Age            332 non-null float64\n",
      "SibSp          418 non-null int64\n",
      "Parch          418 non-null int64\n",
      "Ticket         418 non-null object\n",
      "Fare           417 non-null float64\n",
      "Cabin          91 non-null object\n",
      "Embarked       418 non-null object\n",
      "dtypes: float64(2), int64(4), object(5)\n",
      "memory usage: 36.0+ KB\n",
      "None\n"
     ]
    }
   ],
   "source": [
    "# read the titanic dataset from the given csv file\n",
    "train = pd.read_csv('./input/train.csv')\n",
    "test = pd.read_csv('./input/test.csv')\n",
    "\n",
    "# print relevant information about the dataset\n",
    "print (train.head(3))\n",
    "print (train.info())\n",
    "print (test.info())\n",
    "\n",
    "# initialize random state to be used for splitting training and test set\n",
    "rand_state = 243"
   ]
  },
  {
   "cell_type": "markdown",
   "metadata": {
    "_uuid": "310ac4a9c1e44907210654fab57cafa2811e4246"
   },
   "source": [
    "# Influence of different passenger information on survival prediction\n",
    "\n",
    "The figure shows the correlation between different features in the dataset. Choose the best feature from this map that can help in predicting the survival rate of the passengers\n",
    "\n",
    "![](./PearsonCorrelation.png \"Pearson Correlation map\")"
   ]
  },
  {
   "cell_type": "code",
   "execution_count": 4,
   "metadata": {
    "_cell_guid": "79c7e3d0-c299-4dcb-8224-4455121ee9b0",
    "_uuid": "d629ff2d2480ee46fbb7e2d37f6b5fab8052498a"
   },
   "outputs": [
    {
     "name": "stdout",
     "output_type": "stream",
     "text": [
      "   Pclass  Survived\n",
      "0       1  0.629630\n",
      "1       2  0.472826\n",
      "2       3  0.242363\n"
     ]
    }
   ],
   "source": [
    "# group the survival rate by Pclass\n",
    "print (train[[\"Pclass\", \"Survived\"]].groupby(['Pclass'], as_index=False).mean())"
   ]
  },
  {
   "cell_type": "markdown",
   "metadata": {
    "_uuid": "ada496b70c7dfa341694e72a0c7d8d8d67ed416a"
   },
   "source": [
    "Anyone who has watched the Titanic movie will be well aware that, passengers travelling First class were allowed to get on the life-boats first. And the above statistics shows that more passengers travelling First class survived compared to others.\n",
    " \n",
    "## Now we will predict the survival rate based on Pclass"
   ]
  },
  {
   "cell_type": "code",
   "execution_count": 5,
   "metadata": {
    "_uuid": "c126f51ca6b03ef2c276ff1895b8a1b8deff894f"
   },
   "outputs": [],
   "source": [
    "# prepare the training dataset by mapping the columns to numerical values\n",
    "\n",
    "# make a copy of the training and the test set\n",
    "train_first_clf = train.copy()\n",
    "test_first_clf = test.copy()\n",
    "\n",
    "\n",
    "for dataset in [train_first_clf, test_first_clf]:\n",
    "    # add two columns FirstClass and SecondClass to the data and initialize with 0\n",
    "    dataset['FirstClass'] = 0.*dataset['Pclass']\n",
    "    dataset['SecondClass'] = 0.*dataset['Pclass']\n",
    "    \n",
    "    # fill the two newly added columns with appropriate data\n",
    "    dataset.loc[dataset['Pclass']==1, 'FirstClass'] = 1.\n",
    "    dataset.loc[dataset['Pclass']==2, 'SecondClass'] = 1.\n",
    "\n",
    "# select only the Pclass category as feature from the training data\n",
    "data_train = train_first_clf[['Survived','Pclass']]\n",
    "data_test = test_first_clf['Pclass']\n",
    "data_train = data_train.values\n",
    "data_test = data_test.values"
   ]
  },
  {
   "cell_type": "code",
   "execution_count": 6,
   "metadata": {
    "_uuid": "0d609b7c7a1954009a9fd1b17d5cb0efc10e1751"
   },
   "outputs": [
    {
     "name": "stdout",
     "output_type": "stream",
     "text": [
      "             Classifier  Accuracy\n",
      "0    LogisticRegression  0.636771\n",
      "0            GaussianNB  0.636771\n",
      "0  KNeighborsClassifier  0.551570\n"
     ]
    },
    {
     "data": {
      "text/plain": [
       "[]"
      ]
     },
     "execution_count": 6,
     "metadata": {},
     "output_type": "execute_result"
    }
   ],
   "source": [
    "# import necessary libraries\n",
    "import matplotlib.pyplot as plt\n",
    "from sklearn.model_selection import train_test_split\n",
    "from sklearn.metrics import accuracy_score, log_loss\n",
    "from sklearn.neighbors import KNeighborsClassifier\n",
    "from sklearn.naive_bayes import GaussianNB\n",
    "from sklearn.linear_model import LogisticRegression\n",
    "\n",
    "# initialize the classifiers\n",
    "classifiers = [\n",
    "    KNeighborsClassifier(3),\n",
    "    GaussianNB(),\n",
    "    LogisticRegression()]\n",
    "\n",
    "\n",
    "# initialize a table to store the classifier accuracies\n",
    "log_cols = [\"Classifier\", \"Accuracy\"]\n",
    "log \t = pd.DataFrame(columns=log_cols)\n",
    "\n",
    "\n",
    "# split the data into features and targets\n",
    "X = data_train[:, 1:]       # feature variables\n",
    "y = data_train[:, 0]        # targets\n",
    "\n",
    "acc_dict1 = {}\n",
    "\n",
    "X_train, X_test, y_train, y_test = train_test_split(X, y, test_size=0.25, random_state=rand_state)\n",
    "for clf in classifiers:\n",
    "    name = clf.__class__.__name__\n",
    "    clf.fit(X_train, y_train)\n",
    "    train_predictions = clf.predict(X_test)\n",
    "    acc = accuracy_score(y_test, train_predictions)\n",
    "    acc_dict1[name] = acc\n",
    "\n",
    "# visualize the test accuracy of different classifiers\n",
    "for clf in acc_dict1:\n",
    "    log_entry = pd.DataFrame([[clf, acc_dict1[clf]]], columns=log_cols)\n",
    "    log = log.append(log_entry)\n",
    "\n",
    "print(log)\n",
    "plt.xlabel('Classifier')\n",
    "plt.ylabel('Accuracy')\n",
    "\n",
    "plt.bar(np.arange(3), log['Accuracy'])\n",
    "plt.xticks(np.arange(3), acc_dict1.keys())\n",
    "plt.plot()"
   ]
  },
  {
   "cell_type": "markdown",
   "metadata": {},
   "source": [
    "## What could be the next best feature to include to improve the accuracy of our classifier?\n",
    "\n",
    "Again, have a look at the Correlation map and decide on one more feature which could help in improving the accuracy of the classifier. Remember that in order to improve the accuracy we would need some extra information which is not conveyed by the already existing feature which is the Pclass\n",
    "\n",
    "![](./PearsonCorrelation.png \"Pearson Correlation map\")"
   ]
  },
  {
   "cell_type": "markdown",
   "metadata": {
    "_uuid": "83de2834c1b958b39331140d3d06e3ca34668bbd"
   },
   "source": [
    "Again, if we recall from the movie the passengers who had bought first class tickets were the first ones to be let onto the life boats. Hence, information about whether the passenger was male or female can help us in predicting the survival probability of the passenger along with the information whether the passenger was travelling first class, second class or third class.\n",
    "\n",
    "# Effect of Passenger class and Sex on survival rate "
   ]
  },
  {
   "cell_type": "code",
   "execution_count": 7,
   "metadata": {
    "_uuid": "a851df0efed0bfca99a4098485c45b75226dfd91"
   },
   "outputs": [
    {
     "name": "stdout",
     "output_type": "stream",
     "text": [
      "      Sex  Survived\n",
      "0  female  0.742038\n",
      "1    male  0.188908\n"
     ]
    }
   ],
   "source": [
    "# group the data by sex of the passenger and check the survival rate\n",
    "print (train[['Sex', 'Survived']].groupby(['Sex'], as_index=False).mean())"
   ]
  },
  {
   "cell_type": "code",
   "execution_count": 8,
   "metadata": {
    "_uuid": "cbfed1536f779634c576afbc81cf039ad2659ffa"
   },
   "outputs": [],
   "source": [
    "## add Pclass to the features and classify\n",
    "train_second_clf = train.copy()\n",
    "test_second_clf = test.copy()\n",
    "for dataset in [train_second_clf, test_second_clf]:\n",
    "    # Mapping Sex to categorical values\n",
    "    dataset['Sex'] = dataset['Sex'].map( {'female':0., 'male': 1.} ).astype(float)\n",
    "    \n",
    "    # add two columns FirstClass and SecondClass to the data and initialize with 0\n",
    "    dataset['FirstClass'] = 0.*dataset['Pclass']\n",
    "    dataset['SecondClass'] = 0.*dataset['Pclass']\n",
    "    \n",
    "    # fill the two newly added columns with appropriate data\n",
    "    dataset.loc[dataset['Pclass']==1, 'FirstClass'] = 1.\n",
    "    dataset.loc[dataset['Pclass']==2, 'SecondClass'] = 1.\n",
    "\n",
    "# feature selection\n",
    "data_train = train_second_clf[['Survived','Sex', 'FirstClass', 'SecondClass']]\n",
    "data_test = test_second_clf[['Sex', 'FirstClass', 'SecondClass']]\n",
    "data_train = data_train.values\n",
    "data_test = data_test.values"
   ]
  },
  {
   "cell_type": "code",
   "execution_count": 9,
   "metadata": {
    "_uuid": "7a0ea2abc796c3dfd76788f2d19576c6b08336d9"
   },
   "outputs": [
    {
     "name": "stdout",
     "output_type": "stream",
     "text": [
      "             Classifier  Accuracy\n",
      "0    LogisticRegression  0.811659\n",
      "0            GaussianNB  0.771300\n",
      "0  KNeighborsClassifier  0.735426\n"
     ]
    },
    {
     "data": {
      "text/plain": [
       "[]"
      ]
     },
     "execution_count": 9,
     "metadata": {},
     "output_type": "execute_result"
    },
    {
     "data": {
      "image/png": "[encoded data removed]",
      "text/plain": [
       "<Figure size 432x288 with 1 Axes>"
      ]
     },
     "metadata": {},
     "output_type": "display_data"
    }
   ],
   "source": [
    "# train and visualize the accuracy for different classifiers\n",
    "\n",
    "log_cols = [\"Classifier\", \"Accuracy\"]\n",
    "log \t = pd.DataFrame(columns=log_cols)\n",
    "\n",
    "X = data_train[:, 1:]\n",
    "y = data_train[:, 0]\n",
    "\n",
    "acc_dict2 = {}\n",
    "\n",
    "X_train, X_test, y_train, y_test = train_test_split(X, y, test_size=0.25, random_state=rand_state)\n",
    "\n",
    "for clf in classifiers:\n",
    "    name = clf.__class__.__name__\n",
    "    clf.fit(X_train, y_train)\n",
    "    train_predictions = clf.predict(X_test)\n",
    "    acc = accuracy_score(y_test, train_predictions)\n",
    "    acc_dict2[name] = acc\n",
    "\n",
    "for clf in acc_dict2:\n",
    "    log_entry = pd.DataFrame([[clf, acc_dict2[clf]]], columns=log_cols)\n",
    "    log = log.append(log_entry)\n",
    "\n",
    "print(log)\n",
    "plt.xlabel('Classifier')\n",
    "plt.ylabel('Accuracy')\n",
    "\n",
    "plt.bar(np.arange(3), log['Accuracy'])\n",
    "plt.xticks(np.arange(3), acc_dict2.keys())\n",
    "plt.plot()"
   ]
  },
  {
   "cell_type": "markdown",
   "metadata": {
    "_uuid": "755258c028dc644383f6ec4b382cd263f59b6bb2"
   },
   "source": [
    "# Exercise\n",
    "Use raw values of Pclass for classification i.e. use the PClass column from the data as it is and report the accuracy. Do not map the Pclass to binary values as done before. Also use the Sex of the passenger as the second feature for predicting the survival rate."
   ]
  },
  {
   "cell_type": "code",
   "execution_count": 10,
   "metadata": {
    "_uuid": "7af8a02e81f8194c2703609b5eee9df6c4ce6764"
   },
   "outputs": [
    {
     "name": "stdout",
     "output_type": "stream",
     "text": [
      "             Classifier  Accuracy\n",
      "0    LogisticRegression  0.826816\n",
      "0            GaussianNB  0.826816\n",
      "0  KNeighborsClassifier  0.793296\n"
     ]
    },
    {
     "data": {
      "text/plain": [
       "[]"
      ]
     },
     "execution_count": 10,
     "metadata": {},
     "output_type": "execute_result"
    },
    {
     "data": {
      "image/png": "[encoded data removed]",
      "text/plain": [
       "<Figure size 432x288 with 1 Axes>"
      ]
     },
     "metadata": {},
     "output_type": "display_data"
    }
   ],
   "source": [
    "# make a copy of the original dataset\n",
    "# add code here\n",
    "train_third_clf = train.copy()\n",
    "test_third_clf = test.copy()\n",
    "\n",
    "for dataset in [train_third_clf, test_third_clf]:\n",
    "    # Map Sex (male , female) to categorical values\n",
    "    # add code here\n",
    "    dataset['Sex'] = dataset['Sex'].map( {'female':0., 'male': 1.} ).astype(float)\n",
    "    \n",
    "    \n",
    "# select the features Pclass, Sex and Survived from the training set \n",
    "# make sure that first column is Survived column\n",
    "# add code here\n",
    "\n",
    "data_train = train_third_clf[[\"Survived\",\"Pclass\",\"Sex\"]]\n",
    "data_test = test_third_clf[[\"Pclass\",\"Sex\"]]\n",
    "    \n",
    "data_train = data_train.values\n",
    "data_test = data_test.values\n",
    "\n",
    "\n",
    "log_cols = [\"Classifier\", \"Accuracy\"]\n",
    "log \t = pd.DataFrame(columns=log_cols)\n",
    "\n",
    "\n",
    "X = data_train[:, 1:]\n",
    "y = data_train[:, 0]\n",
    "\n",
    "acc_dict = {}\n",
    "\n",
    "# split the data into train and test\n",
    "X_train, X_test, y_train, y_test = train_test_split(X, y, test_size=0.2, random_state=rand_state)\n",
    "\n",
    "# evaluate for different classifiers\n",
    "for clf in classifiers:\n",
    "    name = clf.__class__.__name__\n",
    "    clf.fit(X_train, y_train)\n",
    "    train_predictions = clf.predict(X_test)\n",
    "    acc = accuracy_score(y_test, train_predictions)\n",
    "    acc_dict[name] = acc\n",
    "\n",
    "for clf in acc_dict:\n",
    "    log_entry = pd.DataFrame([[clf, acc_dict[clf]]], columns=log_cols)\n",
    "    log = log.append(log_entry)\n",
    "\n",
    "print(log)\n",
    "plt.xlabel('Classifier')\n",
    "plt.ylabel('Accuracy')\n",
    "\n",
    "plt.bar(np.arange(3), log['Accuracy'])\n",
    "plt.xticks(np.arange(3), acc_dict.keys())\n",
    "plt.plot()"
   ]
  },
  {
   "cell_type": "markdown",
   "metadata": {
    "_uuid": "606d8d7543a8b8efa149710a909460d0d323a3ef"
   },
   "source": [
    "# Assignment\n",
    "Convert the fare data into categorical data and use that information for classification\n",
    "For this check if all the rows in the data are non zero and/or non NULL. If there's any missing data fill it with some value (choose the values carefully, you can make use of the passenger class to decide on what values to fill)\n",
    "Once assured that there's no NULL data, convert the fare into three different categories. Here, you are binning continuous values into discrete categories. Note that although the values appear continuous a passenger travelling first class would have paid more than a passenger travelling thrid class. Bin the fares accordingly. Once the fares are binned use the column to classify and report the accuracy.\n",
    "\n",
    "### Functions that can be handy to handle the Fare data\n",
    "\".groupby\" as used previously for predicting the survival rate. Here you can use the function to calculate the median/ mean fare of the passengers and fill these values in places where data is missing\n",
    "\n",
    "\"pd.qcut\": This function bins the given column into \"N\" number of bins based on quantiles. If you have \"N=3\" then it bins the given column into top 33%, bottom 33% and the middle 33%. Refer to the documentation for more details.\n",
    "\n",
    "\".loc\": as used previously to select the required rows and columns and fill the data"
   ]
  },
  {
   "cell_type": "code",
   "execution_count": 30,
   "metadata": {},
   "outputs": [],
   "source": [
    "## calculate the median fares for each of the passenger classes using .groupby\n",
    "# add code here\n",
    "median_fare = train['Fare'].groupby(train['Pclass']).median()"
   ]
  },
  {
   "cell_type": "code",
   "execution_count": 31,
   "metadata": {
    "_uuid": "8e6363cf0e522e1d00ac1c90f6eaa951defb0600",
    "scrolled": true
   },
   "outputs": [
    {
     "name": "stdout",
     "output_type": "stream",
     "text": [
      "   CategoricalFare  Survived\n",
      "0  (-0.001, 8.662]  0.198052\n",
      "1    (8.662, 26.0]  0.402778\n",
      "2  (26.0, 512.329]  0.559322\n"
     ]
    }
   ],
   "source": [
    "## use pd.qcut to bin the fares into three categories and check the survival rate\n",
    "train['CategoricalFare'] = pd.qcut(train['Fare'], 3)\n",
    "print (train[['CategoricalFare', 'Survived']].groupby(['CategoricalFare'], as_index=False).mean())"
   ]
  },
  {
   "cell_type": "code",
   "execution_count": 43,
   "metadata": {
    "_uuid": "c668c966471a496b1b0013c523cfe5c341c96a58"
   },
   "outputs": [
    {
     "name": "stderr",
     "output_type": "stream",
     "text": [
      "/home/meenu/.local/lib/python3.5/site-packages/ipykernel_launcher.py:16: SettingWithCopyWarning: \n",
      "A value is trying to be set on a copy of a slice from a DataFrame\n",
      "\n",
      "See the caveats in the documentation: http://pandas.pydata.org/pandas-docs/stable/indexing.html#indexing-view-versus-copy\n",
      "  app.launch_new_instance()\n",
      "/home/meenu/.local/lib/python3.5/site-packages/ipykernel_launcher.py:17: SettingWithCopyWarning: \n",
      "A value is trying to be set on a copy of a slice from a DataFrame\n",
      "\n",
      "See the caveats in the documentation: http://pandas.pydata.org/pandas-docs/stable/indexing.html#indexing-view-versus-copy\n",
      "/home/meenu/.local/lib/python3.5/site-packages/ipykernel_launcher.py:18: SettingWithCopyWarning: \n",
      "A value is trying to be set on a copy of a slice from a DataFrame\n",
      "\n",
      "See the caveats in the documentation: http://pandas.pydata.org/pandas-docs/stable/indexing.html#indexing-view-versus-copy\n"
     ]
    }
   ],
   "source": [
    "## make a copy of the original data\n",
    "train_fourth_clf = train.copy()\n",
    "test_fourth_clf = test.copy()\n",
    "\n",
    "## map the features into numerical values\n",
    "for dataset in [train_fourth_clf, test_fourth_clf]:\n",
    "    # Mapping Sex (male, female) to numerical values\n",
    "    # add code here\n",
    "    dataset['Sex'] = dataset['Sex'].map( {'female':0., 'male': 1.} ).astype(float)\n",
    "\n",
    "    # Fill zero/NULL values in fare according to the passenger class\n",
    "    # if the passenger is travelling first class \"and\" his fare information is missing then\n",
    "    # fill the fare information for that passenger with median fare for first class\n",
    "    # take care not to replace the existing non-zero/ non-NULL fare information for any of the passengers\n",
    "    # add code here\n",
    "    dataset['Fare'][(dataset['Fare']==0)  & (dataset['Pclass']==1)] = median_fare[1]\n",
    "    dataset['Fare'][(dataset['Fare']==0) & (dataset['Pclass']==2)] = median_fare[2]\n",
    "    dataset['Fare'][(dataset['Fare']==0) & (dataset['Pclass']==3)] = median_fare[3]\n",
    "    \n",
    "    # repeat the same for fares of passengers in second class and third class\n",
    "    # add code here\n",
    "    \n",
    "    # Grouping passengers into three categories based on fare\n",
    "    dataset.loc[ dataset['Fare'] <= 8.662, 'Fare'] \t\t\t\t\t\t        = 1\n",
    "    dataset.loc[(dataset['Fare'] > 8.662) & (dataset['Fare'] <= 26.0), 'Fare'] = 2\n",
    "    dataset.loc[ dataset['Fare'] > 26.0, 'Fare'] \t\t\t\t\t\t\t        = 3\n",
    "    dataset['Fare'] = dataset['Fare'].astype(float)\n",
    "    \n",
    "\n",
    "# Select the features \"Survived, Sex, Pclass, Fare\" from the given data\n",
    "# add code here\n",
    "data_train = train_third_clf[[\"Survived\",\"Sex\",\"Pclass\",\"Fare\"]]\n",
    "data_test = test_third_clf[[\"Sex\",\"Pclass\",\"Fare\"]]\n",
    "    \n",
    "data_train = data_train.values\n",
    "data_test = data_test.values"
   ]
  },
  {
   "cell_type": "code",
   "execution_count": 56,
   "metadata": {
    "_uuid": "13d8cc8d36e6ec50eec373fa042b561c968ffcf2"
   },
   "outputs": [
    {
     "name": "stdout",
     "output_type": "stream",
     "text": [
      "             Classifier  Accuracy\n",
      "0    LogisticRegression  0.832402\n",
      "0            GaussianNB  0.821229\n",
      "0  KNeighborsClassifier  0.804469\n"
     ]
    },
    {
     "data": {
      "text/plain": [
       "[]"
      ]
     },
     "execution_count": 56,
     "metadata": {},
     "output_type": "execute_result"
    },
    {
     "data": {
      "image/png": "[encoded data removed]",
      "text/plain": [
       "<Figure size 432x288 with 1 Axes>"
      ]
     },
     "metadata": {},
     "output_type": "display_data"
    }
   ],
   "source": [
    "log_cols = [\"Classifier\", \"Accuracy\"]\n",
    "log \t = pd.DataFrame(columns=log_cols)\n",
    "\n",
    "X = data_train[:, 1:]\n",
    "y = data_train[:, 0]\n",
    "\n",
    "acc_dict = {}\n",
    "\n",
    "# split the data into train and test\n",
    "X_train, X_test, y_train, y_test = train_test_split(X, y, test_size=0.2, random_state=rand_state)\n",
    "\n",
    "# evaluate for different classifiers\n",
    "for clf in classifiers:\n",
    "    name = clf.__class__.__name__\n",
    "    clf.fit(X_train, y_train)\n",
    "    train_predictions = clf.predict(X_test)\n",
    "    acc = accuracy_score(y_test, train_predictions)\n",
    "    acc_dict[name] = acc\n",
    "\n",
    "for clf in acc_dict:\n",
    "    log_entry = pd.DataFrame([[clf, acc_dict[clf]]], columns=log_cols)\n",
    "    log = log.append(log_entry)\n",
    "\n",
    "print(log)\n",
    "plt.xlabel('Classifier')\n",
    "plt.ylabel('Accuracy')\n",
    "\n",
    "plt.bar(np.arange(3), log['Accuracy'])\n",
    "plt.xticks(np.arange(3), acc_dict.keys())\n",
    "plt.plot()\n"
   ]
  },
  {
   "cell_type": "markdown",
   "metadata": {
    "collapsed": true
   },
   "source": [
    "## Is Fare a good feature to include in the classification?\n",
    "\n",
    "Ticket fare paid by a passenger seems to be a good feature for classification if considered independently. However, when we already have the information about the passenger class in which the passenger was travelling this feature becomes somewhat redundant. This is because, a passenger travelling first class would have certainly paid more compared to another passenger travelling third class. Even from the Pearson Correlation map we can see that the feature \"Pclass\" is highly correlated with the feature \"Fare\"\n",
    "\n",
    "![](./PearsonCorrelation.png \"Pearson Correlation map\")\n",
    "\n",
    "When we have a lot of features and very less data this is another way of reducing the dimensionality without losing information. If we remove the columns which are highly correlated then, we reduce the dimensionality without sacrificing much on the information"
   ]
  }
 ],
 "metadata": {
  "anaconda-cloud": {},
  "kernelspec": {
   "display_name": "Python 3",
   "language": "python",
   "name": "python3"
  },
  "language_info": {
   "codemirror_mode": {
    "name": "ipython",
    "version": 3
   },
   "file_extension": ".py",
   "mimetype": "text/x-python",
   "name": "python",
   "nbconvert_exporter": "python",
   "pygments_lexer": "ipython3",
   "version": "3.5.2"
  }
 },
 "nbformat": 4,
 "nbformat_minor": 1
}
