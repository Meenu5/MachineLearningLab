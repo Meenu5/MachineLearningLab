{
 "cells": [
  {
   "cell_type": "code",
   "execution_count": 88,
   "metadata": {},
   "outputs": [],
   "source": [
    "# import libraries\n",
    "import numpy as np\n",
    "import pickle\n",
    "from sklearn.linear_model import LogisticRegression\n",
    "import time\n",
    "from sklearn.model_selection import train_test_split\n",
    "import matplotlib.pyplot as plt\n",
    "from sklearn.metrics import accuracy_score"
   ]
  },
  {
   "cell_type": "code",
   "execution_count": 89,
   "metadata": {},
   "outputs": [],
   "source": [
    "# function to load one batch\n",
    "def getData(file) :\n",
    "    name = './cifar-10-batches-py/'+file\n",
    "    with open(name, 'rb') as fo:\n",
    "        data = pickle.load(fo, encoding=\"bytes\")\n",
    "    return data"
   ]
  },
  {
   "cell_type": "code",
   "execution_count": 90,
   "metadata": {},
   "outputs": [],
   "source": [
    "# loading train-validation data\n",
    "X = []\n",
    "y = []\n",
    "for i in range(5) :\n",
    "    filename = \"data_batch_\"+str(i+1)\n",
    "    data = getData(filename)\n",
    "    X.append(data[b'data'])\n",
    "    y.append(data[b'labels'])\n",
    "# input of size (50000, 3072) and output of size (50000,1)\n",
    "X = np.array(X).reshape(-1,3072)\n",
    "X = np.divide(X,255)\n",
    "y = np.array(y).reshape(50000)"
   ]
  },
  {
   "cell_type": "code",
   "execution_count": 91,
   "metadata": {},
   "outputs": [],
   "source": [
    "# loading test data\n",
    "Xtest = getData(\"test_batch\")[b'data']\n",
    "ytest = np.array(getData(\"test_batch\")[b'labels'])\n",
    "Xtest = np.divide(Xtest,255)"
   ]
  },
  {
   "cell_type": "code",
   "execution_count": 92,
   "metadata": {},
   "outputs": [],
   "source": [
    "label_names = [lbl.decode(\"utf-8\") for lbl in getData(\"batches.meta\")[b'label_names']]"
   ]
  },
  {
   "cell_type": "code",
   "execution_count": 93,
   "metadata": {},
   "outputs": [],
   "source": [
    "# using airplane, automobile and bird classes\n",
    "Xnew11 = []\n",
    "ynew11 = []\n",
    "Xnew12 = []\n",
    "ynew12 = []\n",
    "Xnew10 = []\n",
    "ynew10 = []\n",
    "\n",
    "for i in range(len(y)) :\n",
    "    if y[i]==0 :\n",
    "        Xnew10.append(X[i])\n",
    "        ynew10.append(y[i])\n",
    "    elif y[i]==1 :\n",
    "        Xnew11.append(X[i])\n",
    "        ynew11.append(y[i])\n",
    "    elif y[i]==2 :\n",
    "        Xnew12.append(X[i])\n",
    "        ynew12.append(y[i])\n",
    "    \n",
    "Xnew10 = np.array(Xnew10)\n",
    "ynew10 = np.array(ynew10)\n",
    "Xnew11 = np.array(Xnew11)\n",
    "ynew11 = np.array(ynew11)\n",
    "Xnew12 = np.array(Xnew12)\n",
    "ynew12 = np.array(ynew12)"
   ]
  },
  {
   "cell_type": "code",
   "execution_count": 94,
   "metadata": {},
   "outputs": [],
   "source": [
    "Xnew2 = []\n",
    "ynew2 = []\n",
    "for i in range(len(ytest)) :\n",
    "    if ytest[i] in [0,1,2] :\n",
    "        Xnew2.append(Xtest[i])\n",
    "        ynew2.append(ytest[i])\n",
    "Xnew2 = np.array(Xnew2)\n",
    "ynew2 = np.array(ynew2)\n"
   ]
  },
  {
   "cell_type": "code",
   "execution_count": 95,
   "metadata": {},
   "outputs": [],
   "source": [
    "# function to shuffle arrays\n",
    "def shuffleArrays(a, b):\n",
    "    assert len(a) == len(b)\n",
    "    index = np.random.permutation(len(a))\n",
    "    return a[index], b[index]"
   ]
  },
  {
   "cell_type": "code",
   "execution_count": 96,
   "metadata": {},
   "outputs": [
    {
     "name": "stderr",
     "output_type": "stream",
     "text": [
      "/home/meenu/.local/lib/python3.5/site-packages/sklearn/model_selection/_split.py:2026: FutureWarning: From version 0.21, test_size will always complement train_size unless both are specified.\n",
      "  FutureWarning)\n"
     ]
    }
   ],
   "source": [
    "[x_train0,x_test0,y_train0,y_test0] = train_test_split(Xnew10,ynew10,random_state=0,train_size=0.8)\n",
    "[x_train1,x_test1,y_train1,y_test1] = train_test_split(Xnew11,ynew11,random_state=0,train_size=0.8)\n",
    "[x_train2,x_test2,y_train2,y_test2] = train_test_split(Xnew12,ynew12,random_state=0,train_size=0.8)\n"
   ]
  },
  {
   "cell_type": "code",
   "execution_count": 97,
   "metadata": {},
   "outputs": [],
   "source": [
    "def doClassifier(X1,y1,X2,y2,X3,y3,X4,y4) :\n",
    "    xtrain = []\n",
    "    ytrain = []\n",
    "    xvalid = []\n",
    "    yvalid = []\n",
    "    \n",
    "    xtrain.append(X1)\n",
    "    xtrain.append(X2)\n",
    "    ytrain.append(y1)\n",
    "    ytrain.append(y2)\n",
    "    \n",
    "    xvalid.append(X3)\n",
    "    xvalid.append(X4)\n",
    "    yvalid.append(y3)\n",
    "    yvalid.append(y4)\n",
    "    \n",
    "    xtrain = np.array(xtrain)\n",
    "    ytrain = np.array(ytrain)\n",
    "    xvalid = np.array(xvalid)\n",
    "    yvalid = np.array(yvalid)\n",
    "    \n",
    "    xtrain = xtrain.reshape(-1,3072)\n",
    "    xvalid = xvalid.reshape(-1,3072)\n",
    "    ytrain = ytrain.reshape(xtrain.shape[0])\n",
    "    yvalid = yvalid.reshape(xvalid.shape[0])\n",
    "    \n",
    "    \n",
    "    \n",
    "    xtrain, ytrain = shuffleArrays(xtrain,ytrain)\n",
    "    xvalid, yvalid = shuffleArrays(xvalid,yvalid)\n",
    "    \n",
    "    return xtrain,xvalid,ytrain,yvalid"
   ]
  },
  {
   "cell_type": "code",
   "execution_count": 98,
   "metadata": {},
   "outputs": [],
   "source": [
    "train_time_ovo = 0\n",
    "train_time_ova = 0\n"
   ]
  },
  {
   "cell_type": "code",
   "execution_count": 99,
   "metadata": {},
   "outputs": [
    {
     "name": "stderr",
     "output_type": "stream",
     "text": [
      "/home/meenu/.local/lib/python3.5/site-packages/sklearn/linear_model/sag.py:326: ConvergenceWarning: The max_iter was reached which means the coef_ did not converge\n",
      "  \"the coef_ did not converge\", ConvergenceWarning)\n"
     ]
    },
    {
     "name": "stdout",
     "output_type": "stream",
     "text": [
      "Train score:0.85\n",
      "Validation score:0.80\n"
     ]
    }
   ],
   "source": [
    "# getting data for the first classifier\n",
    "xtrain01,xvalid01,ytrain01,yvalid01 = doClassifier(x_train0, y_train0,x_train1, y_train1,x_test0, y_test0,x_test1, y_test1)\n",
    "# model for classifier - classes 0 and 1 \n",
    "max_iters = 100\n",
    "\n",
    "start = time.time()*1000\n",
    "clf01 = LogisticRegression(solver='sag',n_jobs = -1, max_iter=max_iters, C=100).fit(xtrain01,ytrain01)\n",
    "end = time.time()*1000\n",
    "train_time_ovo += (end - start)\n",
    "\n",
    "print(\"Train score:{:.2f}\".format(clf01.score(xtrain01,ytrain01)))\n",
    "print(\"Validation score:{:.2f}\".format(clf01.score(xvalid01,yvalid01)))\n"
   ]
  },
  {
   "cell_type": "code",
   "execution_count": 100,
   "metadata": {},
   "outputs": [
    {
     "name": "stderr",
     "output_type": "stream",
     "text": [
      "/home/meenu/.local/lib/python3.5/site-packages/sklearn/linear_model/sag.py:326: ConvergenceWarning: The max_iter was reached which means the coef_ did not converge\n",
      "  \"the coef_ did not converge\", ConvergenceWarning)\n"
     ]
    },
    {
     "name": "stdout",
     "output_type": "stream",
     "text": [
      "Train score:0.83\n",
      "Validation score:0.77\n"
     ]
    }
   ],
   "source": [
    "# getting data for the first classifier\n",
    "xtrain02,xvalid02,ytrain02,yvalid02 = doClassifier(x_train0, y_train0,x_train2, y_train2,x_test0, y_test0,x_test2, y_test2)\n",
    "max_iters = 100\n",
    "\n",
    "start = time.time()*1000\n",
    "clf02 = LogisticRegression(solver='sag',n_jobs = -1, max_iter=max_iters, C=100).fit(xtrain02,ytrain02)\n",
    "end = time.time()*1000\n",
    "train_time_ovo += (end-start)\n",
    "print(\"Train score:{:.2f}\".format(clf02.score(xtrain02,ytrain02)))\n",
    "print(\"Validation score:{:.2f}\".format(clf02.score(xvalid02,yvalid02)))\n"
   ]
  },
  {
   "cell_type": "code",
   "execution_count": 101,
   "metadata": {},
   "outputs": [
    {
     "name": "stderr",
     "output_type": "stream",
     "text": [
      "/home/meenu/.local/lib/python3.5/site-packages/sklearn/linear_model/sag.py:326: ConvergenceWarning: The max_iter was reached which means the coef_ did not converge\n",
      "  \"the coef_ did not converge\", ConvergenceWarning)\n"
     ]
    },
    {
     "name": "stdout",
     "output_type": "stream",
     "text": [
      "Train score:0.88\n",
      "Validation score:0.83\n"
     ]
    }
   ],
   "source": [
    "# getting data for the first classifier\n",
    "xtrain12,xvalid12,ytrain12,yvalid12 = doClassifier(x_train1, y_train1,x_train2, y_train2,x_test1, y_test1,x_test2, y_test2)\n",
    "max_iters = 100\n",
    "\n",
    "start = time.time()*1000\n",
    "clf12 = LogisticRegression(solver='sag',n_jobs = -1, max_iter=max_iters, C=100).fit(xtrain12,ytrain12)\n",
    "end = time.time()*1000\n",
    "train_time_ovo += (end-start)\n",
    "print(\"Train score:{:.2f}\".format(clf12.score(xtrain12,ytrain12)))\n",
    "print(\"Validation score:{:.2f}\".format(clf12.score(xvalid12,yvalid12)))\n"
   ]
  },
  {
   "cell_type": "code",
   "execution_count": 102,
   "metadata": {},
   "outputs": [],
   "source": [
    "# computing accuracy\n",
    "pred01 = clf01.predict_proba(Xnew2)\n",
    "pred02 = clf02.predict_proba(Xnew2)\n",
    "pred12 = clf12.predict_proba(Xnew2)\n",
    "\n",
    "ypred = np.zeros((Xnew2.shape[0],3))\n",
    "\n",
    "for i in range(Xnew2.shape[0]) :\n",
    "    ypred[i][0] += pred01[i][0]\n",
    "    ypred[i][0] += pred02[i][0]\n",
    "\n",
    "for i in range(Xnew2.shape[0]) :\n",
    "    ypred[i][1] += pred01[i][1]\n",
    "    ypred[i][1] += pred12[i][0]\n",
    "\n",
    "    \n",
    "for i in range(Xnew2.shape[0]) :\n",
    "    ypred[i][2] += pred02[i][1]\n",
    "    ypred[i][2] += pred12[i][1]\n",
    "\n",
    "yfinal = np.argmax(ypred,axis=1)\n",
    "\n"
   ]
  },
  {
   "cell_type": "code",
   "execution_count": 103,
   "metadata": {},
   "outputs": [
    {
     "name": "stdout",
     "output_type": "stream",
     "text": [
      "Test score:0.7047\n",
      "Computation time of training OVO classifier in milliseconds  68829.89404296875\n"
     ]
    }
   ],
   "source": [
    "# Accuracy of ovo classifier\n",
    "print(\"Test score:{:.4f}\".format(accuracy_score(yfinal,ynew2)))\n",
    "# Computation time\n",
    "print(\"Computation time of training OVO classifier in milliseconds \",train_time_ovo)"
   ]
  },
  {
   "cell_type": "code",
   "execution_count": 104,
   "metadata": {},
   "outputs": [],
   "source": [
    "def doOVAClassifier0(X1,y1,X2,y2,X3,y3,X4,y4,X5,y5,X6,y6) :\n",
    "    xtrain = []\n",
    "    ytrain = []\n",
    "    xvalid = []\n",
    "    yvalid = []\n",
    "    \n",
    "    xtrain.append(X1)\n",
    "    xtrain.append(X2)\n",
    "    xtrain.append(X3)\n",
    "    # 0 and 1 labels\n",
    "    ytrain.append(y1)\n",
    "    ytrain.append(y2)\n",
    "    ytrain.append(y2)\n",
    "    \n",
    "    xvalid.append(X4)\n",
    "    xvalid.append(X5)\n",
    "    xvalid.append(X6)\n",
    "    \n",
    "    yvalid.append(y4)\n",
    "    yvalid.append(y5)\n",
    "    yvalid.append(y5)\n",
    "    \n",
    "    xtrain = np.array(xtrain)\n",
    "    ytrain = np.array(ytrain)\n",
    "    xvalid = np.array(xvalid)\n",
    "    yvalid = np.array(yvalid)\n",
    "    \n",
    "    xtrain = xtrain.reshape(-1,3072)\n",
    "    xvalid = xvalid.reshape(-1,3072)\n",
    "    ytrain = ytrain.reshape(xtrain.shape[0])\n",
    "    yvalid = yvalid.reshape(xvalid.shape[0])\n",
    "    \n",
    "    \n",
    "    \n",
    "    xtrain, ytrain = shuffleArrays(xtrain,ytrain)\n",
    "    xvalid, yvalid = shuffleArrays(xvalid,yvalid)\n",
    "    \n",
    "    return xtrain,xvalid,ytrain,yvalid"
   ]
  },
  {
   "cell_type": "code",
   "execution_count": null,
   "metadata": {},
   "outputs": [],
   "source": []
  },
  {
   "cell_type": "code",
   "execution_count": 105,
   "metadata": {},
   "outputs": [
    {
     "name": "stderr",
     "output_type": "stream",
     "text": [
      "/home/meenu/.local/lib/python3.5/site-packages/sklearn/linear_model/sag.py:326: ConvergenceWarning: The max_iter was reached which means the coef_ did not converge\n",
      "  \"the coef_ did not converge\", ConvergenceWarning)\n"
     ]
    },
    {
     "name": "stdout",
     "output_type": "stream",
     "text": [
      "Train score:0.82\n",
      "Validation score:0.76\n"
     ]
    }
   ],
   "source": [
    "xtrain0,xvalid0,ytrain0,yvalid0 = doOVAClassifier0(x_train0, y_train0, x_train1, y_train1, x_train2,y_train2, x_test0, y_test0, x_test1, y_test1, x_test2, y_test2)\n",
    "\n",
    "max_iters = 100\n",
    "\n",
    "start = time.time()*1000\n",
    "clf0 = LogisticRegression(solver='sag',n_jobs = -1, max_iter=max_iters, C=100).fit(xtrain0,ytrain0)\n",
    "end = time.time()*1000\n",
    "train_time_ova += (end-start)\n",
    "print(\"Train score:{:.2f}\".format(clf0.score(xtrain0,ytrain0)))\n",
    "print(\"Validation score:{:.2f}\".format(clf0.score(xvalid0,yvalid0)))\n"
   ]
  },
  {
   "cell_type": "code",
   "execution_count": 106,
   "metadata": {},
   "outputs": [],
   "source": [
    "def doOVAClassifier1(X1,y1,X2,y2,X3,y3,X4,y4,X5,y5,X6,y6) :\n",
    "    xtrain = []\n",
    "    ytrain = []\n",
    "    xvalid = []\n",
    "    yvalid = []\n",
    "    \n",
    "    xtrain.append(X1)\n",
    "    xtrain.append(X2)\n",
    "    xtrain.append(X3)\n",
    "    # 1 and 0 labels\n",
    "    ytrain.append(y1)\n",
    "    ytrain.append(y2)\n",
    "    ytrain.append(y1)\n",
    "    \n",
    "    xvalid.append(X4)\n",
    "    xvalid.append(X5)\n",
    "    xvalid.append(X6)\n",
    "    \n",
    "    yvalid.append(y4)\n",
    "    yvalid.append(y5)\n",
    "    yvalid.append(y4)\n",
    "    \n",
    "    xtrain = np.array(xtrain)\n",
    "    ytrain = np.array(ytrain)\n",
    "    xvalid = np.array(xvalid)\n",
    "    yvalid = np.array(yvalid)\n",
    "    \n",
    "    xtrain = xtrain.reshape(-1,3072)\n",
    "    xvalid = xvalid.reshape(-1,3072)\n",
    "    ytrain = ytrain.reshape(xtrain.shape[0])\n",
    "    yvalid = yvalid.reshape(xvalid.shape[0])\n",
    "    \n",
    "    \n",
    "    \n",
    "    xtrain, ytrain = shuffleArrays(xtrain,ytrain)\n",
    "    xvalid, yvalid = shuffleArrays(xvalid,yvalid)\n",
    "    \n",
    "    return xtrain,xvalid,ytrain,yvalid"
   ]
  },
  {
   "cell_type": "code",
   "execution_count": 107,
   "metadata": {},
   "outputs": [
    {
     "name": "stderr",
     "output_type": "stream",
     "text": [
      "/home/meenu/.local/lib/python3.5/site-packages/sklearn/linear_model/sag.py:326: ConvergenceWarning: The max_iter was reached which means the coef_ did not converge\n",
      "  \"the coef_ did not converge\", ConvergenceWarning)\n"
     ]
    },
    {
     "name": "stdout",
     "output_type": "stream",
     "text": [
      "Train score:0.86\n",
      "Validation score:0.83\n"
     ]
    }
   ],
   "source": [
    "xtrain1,xvalid1,ytrain1,yvalid1 = doOVAClassifier1(x_train0, y_train0, x_train1, y_train1, x_train2,y_train2, x_test0, y_test0, x_test1, y_test1, x_test2, y_test2)\n",
    "\n",
    "max_iters = 100\n",
    "\n",
    "start = time.time()*1000\n",
    "clf1 = LogisticRegression(solver='sag',n_jobs = -1, max_iter=max_iters, C=100).fit(xtrain1,ytrain1)\n",
    "end = time.time()*1000\n",
    "train_time_ova += (end-start)\n",
    "print(\"Train score:{:.2f}\".format(clf1.score(xtrain1,ytrain1)))\n",
    "print(\"Validation score:{:.2f}\".format(clf1.score(xvalid1,yvalid1)))\n"
   ]
  },
  {
   "cell_type": "code",
   "execution_count": 108,
   "metadata": {},
   "outputs": [],
   "source": [
    "def doOVAClassifier2(X1,y1,X2,y2,X3,y3,X4,y4,X5,y5,X6,y6) :\n",
    "    xtrain = []\n",
    "    ytrain = []\n",
    "    xvalid = []\n",
    "    yvalid = []\n",
    "    \n",
    "    xtrain.append(X1)\n",
    "    xtrain.append(X2)\n",
    "    xtrain.append(X3)\n",
    "    # 2 and 0 labels\n",
    "    ytrain.append(y1)\n",
    "    ytrain.append(y1)\n",
    "    ytrain.append(y3)\n",
    "    \n",
    "    xvalid.append(X4)\n",
    "    xvalid.append(X5)\n",
    "    xvalid.append(X6)\n",
    "    \n",
    "    yvalid.append(y4)\n",
    "    yvalid.append(y4)\n",
    "    yvalid.append(y6)\n",
    "    \n",
    "    xtrain = np.array(xtrain)\n",
    "    ytrain = np.array(ytrain)\n",
    "    xvalid = np.array(xvalid)\n",
    "    yvalid = np.array(yvalid)\n",
    "    \n",
    "    xtrain = xtrain.reshape(-1,3072)\n",
    "    xvalid = xvalid.reshape(-1,3072)\n",
    "    ytrain = ytrain.reshape(xtrain.shape[0])\n",
    "    yvalid = yvalid.reshape(xvalid.shape[0])\n",
    "    \n",
    "    \n",
    "    \n",
    "    xtrain, ytrain = shuffleArrays(xtrain,ytrain)\n",
    "    xvalid, yvalid = shuffleArrays(xvalid,yvalid)\n",
    "    \n",
    "    return xtrain,xvalid,ytrain,yvalid"
   ]
  },
  {
   "cell_type": "code",
   "execution_count": 109,
   "metadata": {},
   "outputs": [
    {
     "name": "stderr",
     "output_type": "stream",
     "text": [
      "/home/meenu/.local/lib/python3.5/site-packages/sklearn/linear_model/sag.py:326: ConvergenceWarning: The max_iter was reached which means the coef_ did not converge\n",
      "  \"the coef_ did not converge\", ConvergenceWarning)\n"
     ]
    },
    {
     "name": "stdout",
     "output_type": "stream",
     "text": [
      "Train score:0.84\n",
      "Validation score:0.80\n"
     ]
    }
   ],
   "source": [
    "xtrain2,xvalid2,ytrain2,yvalid2 = doOVAClassifier2(x_train0, y_train0, x_train1, y_train1, x_train2,y_train2, x_test0, y_test0, x_test1, y_test1, x_test2, y_test2)\n",
    "\n",
    "max_iters = 100\n",
    "\n",
    "start = time.time()*1000\n",
    "clf2 = LogisticRegression(solver='sag',n_jobs = -1, max_iter=max_iters, C=100).fit(xtrain2,ytrain2)\n",
    "end = time.time()*1000\n",
    "train_time_ova += (end-start)\n",
    "print(\"Train score:{:.2f}\".format(clf2.score(xtrain2,ytrain2)))\n",
    "print(\"Validation score:{:.2f}\".format(clf2.score(xvalid2,yvalid2)))\n"
   ]
  },
  {
   "cell_type": "code",
   "execution_count": 110,
   "metadata": {},
   "outputs": [],
   "source": [
    "# computing accuracy\n",
    "pred0 = clf0.predict_proba(Xnew2)\n",
    "pred1 = clf1.predict_proba(Xnew2)\n",
    "pred2 = clf2.predict_proba(Xnew2)\n",
    "\n",
    "\n",
    "\n",
    "ypred = np.zeros((Xnew2.shape[0],3))\n",
    "\n",
    "for i in range(Xnew2.shape[0]) :\n",
    "    ypred[i][0] = pred0[i][0]\n",
    "\n",
    "for i in range(Xnew2.shape[0]) :\n",
    "    ypred[i][1] = pred1[i][1]\n",
    "\n",
    "    \n",
    "for i in range(Xnew2.shape[0]) :\n",
    "    ypred[i][2] = pred2[i][1]\n",
    "\n",
    "yfinal = np.argmax(ypred,axis=1)\n"
   ]
  },
  {
   "cell_type": "code",
   "execution_count": 111,
   "metadata": {},
   "outputs": [
    {
     "name": "stdout",
     "output_type": "stream",
     "text": [
      "Test score:0.7030\n",
      "Computation time of training OVO classifier in milliseconds  96720.5947265625\n"
     ]
    }
   ],
   "source": [
    "# Accuracy of ova classifier\n",
    "print(\"Test score:{:.4f}\".format(accuracy_score(yfinal,ynew2)))\n",
    "# Computation time\n",
    "print(\"Computation time of training OVO classifier in milliseconds \",train_time_ova)"
   ]
  },
  {
   "cell_type": "markdown",
   "metadata": {},
   "source": [
    "### Results for Q1 ###"
   ]
  },
  {
   "cell_type": "markdown",
   "metadata": {},
   "source": [
    "1. The time required for training one vs all is more than one vs one in the case of 3 classes. This is because the number of samples per classifier are more in case of OVA although both have 3 classifiers to be trained. This is not the case when more than 3 classes are present, as the number of combinations of ovo classifiers are of the order n^2 whereas ova has only n, where n is the number of classes. Hence OVA is preferred when n is high.\n",
    "\n",
    "2. Accuracy of both the classfiers on 10,000 samples of test data are almost the same.\n",
    "\n",
    "3. Probabilities of predictions have been taken into account for max-voting, so that ties won't arise among class labels\n",
    "\n",
    "4. max_iters were varied as 100,200,400. But accuracy on validation set decreased as max_iters was increased. Hence max_iters = 100 was used."
   ]
  },
  {
   "cell_type": "code",
   "execution_count": 122,
   "metadata": {},
   "outputs": [
    {
     "name": "stderr",
     "output_type": "stream",
     "text": [
      "/home/meenu/.local/lib/python3.5/site-packages/sklearn/model_selection/_split.py:2026: FutureWarning: From version 0.21, test_size will always complement train_size unless both are specified.\n",
      "  FutureWarning)\n",
      "/home/meenu/.local/lib/python3.5/site-packages/sklearn/linear_model/sag.py:326: ConvergenceWarning: The max_iter was reached which means the coef_ did not converge\n",
      "  \"the coef_ did not converge\", ConvergenceWarning)\n",
      "/home/meenu/.local/lib/python3.5/site-packages/sklearn/linear_model/sag.py:326: ConvergenceWarning: The max_iter was reached which means the coef_ did not converge\n",
      "  \"the coef_ did not converge\", ConvergenceWarning)\n",
      "/home/meenu/.local/lib/python3.5/site-packages/sklearn/linear_model/sag.py:326: ConvergenceWarning: The max_iter was reached which means the coef_ did not converge\n",
      "  \"the coef_ did not converge\", ConvergenceWarning)\n",
      "/home/meenu/.local/lib/python3.5/site-packages/sklearn/linear_model/sag.py:326: ConvergenceWarning: The max_iter was reached which means the coef_ did not converge\n",
      "  \"the coef_ did not converge\", ConvergenceWarning)\n",
      "/home/meenu/.local/lib/python3.5/site-packages/sklearn/linear_model/sag.py:326: ConvergenceWarning: The max_iter was reached which means the coef_ did not converge\n",
      "  \"the coef_ did not converge\", ConvergenceWarning)\n",
      "/home/meenu/.local/lib/python3.5/site-packages/sklearn/linear_model/sag.py:326: ConvergenceWarning: The max_iter was reached which means the coef_ did not converge\n",
      "  \"the coef_ did not converge\", ConvergenceWarning)\n",
      "/home/meenu/.local/lib/python3.5/site-packages/sklearn/linear_model/sag.py:326: ConvergenceWarning: The max_iter was reached which means the coef_ did not converge\n",
      "  \"the coef_ did not converge\", ConvergenceWarning)\n",
      "/home/meenu/.local/lib/python3.5/site-packages/sklearn/linear_model/sag.py:326: ConvergenceWarning: The max_iter was reached which means the coef_ did not converge\n",
      "  \"the coef_ did not converge\", ConvergenceWarning)\n",
      "/home/meenu/.local/lib/python3.5/site-packages/sklearn/linear_model/sag.py:326: ConvergenceWarning: The max_iter was reached which means the coef_ did not converge\n",
      "  \"the coef_ did not converge\", ConvergenceWarning)\n",
      "/home/meenu/.local/lib/python3.5/site-packages/sklearn/linear_model/sag.py:326: ConvergenceWarning: The max_iter was reached which means the coef_ did not converge\n",
      "  \"the coef_ did not converge\", ConvergenceWarning)\n"
     ]
    },
    {
     "name": "stdout",
     "output_type": "stream",
     "text": [
      "Computation time required in milliseconds 1242165.04296875\n",
      "Train score:0.4784\n",
      "Validation score:0.3906\n",
      "Validation score:0.3850\n"
     ]
    }
   ],
   "source": [
    "# one vs all classifier for 10 classes\n",
    "from sklearn.multiclass import OneVsRestClassifier\n",
    "[xTrain,xTest,yTrain,yTest] = train_test_split(X,y,random_state=0,train_size=0.8)\n",
    "\n",
    "start = time.time() * 1000\n",
    "clfOva = OneVsRestClassifier(LogisticRegression(solver='sag',n_jobs = -1, max_iter=max_iters, C=100)).fit(xTrain, yTrain)\n",
    "end = time.time() * 1000\n",
    "print(\"Computation time required in milliseconds\",end-start)\n",
    "\n",
    "yPred = clfOva.predict(xTrain)\n",
    "print(\"Train score:{:.4f}\".format(accuracy_score(yPred,yTrain)))\n",
    "yPred = clfOva.predict(xTest)\n",
    "print(\"Validation score:{:.4f}\".format(accuracy_score(yPred,yTest)))\n",
    "yPred = clfOva.predict(Xtest)\n",
    "print(\"Validation score:{:.4f}\".format(accuracy_score(yPred,ytest)))\n"
   ]
  },
  {
   "cell_type": "code",
   "execution_count": null,
   "metadata": {},
   "outputs": [],
   "source": []
  }
 ],
 "metadata": {
  "kernelspec": {
   "display_name": "Python 3",
   "language": "python",
   "name": "python3"
  },
  "language_info": {
   "codemirror_mode": {
    "name": "ipython",
    "version": 3
   },
   "file_extension": ".py",
   "mimetype": "text/x-python",
   "name": "python",
   "nbconvert_exporter": "python",
   "pygments_lexer": "ipython3",
   "version": "3.5.2"
  }
 },
 "nbformat": 4,
 "nbformat_minor": 2
}
